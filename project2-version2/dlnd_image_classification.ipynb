{
 "cells": [
  {
   "cell_type": "markdown",
   "metadata": {
    "collapsed": true
   },
   "source": [
    "# Image Classification\n",
    "In this project, you'll classify images from the [CIFAR-10 dataset](https://www.cs.toronto.edu/~kriz/cifar.html).  The dataset consists of airplanes, dogs, cats, and other objects. You'll preprocess the images, then train a convolutional neural network on all the samples. The images need to be normalized and the labels need to be one-hot encoded.  You'll get to apply what you learned and build a convolutional, max pooling, dropout, and fully connected layers.  At the end, you'll get to see your neural network's predictions on the sample images.\n",
    "## Get the Data\n",
    "Run the following cell to download the [CIFAR-10 dataset for python](https://www.cs.toronto.edu/~kriz/cifar-10-python.tar.gz)."
   ]
  },
  {
   "cell_type": "code",
   "execution_count": 2,
   "metadata": {},
   "outputs": [
    {
     "name": "stdout",
     "output_type": "stream",
     "text": [
      "All files found!\n"
     ]
    }
   ],
   "source": [
    "\"\"\"\n",
    "DON'T MODIFY ANYTHING IN THIS CELL THAT IS BELOW THIS LINE\n",
    "\"\"\"\n",
    "from urllib.request import urlretrieve\n",
    "from os.path import isfile, isdir\n",
    "from tqdm import tqdm\n",
    "import problem_unittests as tests\n",
    "import tarfile\n",
    "\n",
    "cifar10_dataset_folder_path = 'cifar-10-batches-py'\n",
    "\n",
    "# Use Floyd's cifar-10 dataset if present\n",
    "floyd_cifar10_location = '/input/cifar-10/python.tar.gz'\n",
    "if isfile(floyd_cifar10_location):\n",
    "    tar_gz_path = floyd_cifar10_location\n",
    "else:\n",
    "    tar_gz_path = 'cifar-10-python.tar.gz'\n",
    "\n",
    "class DLProgress(tqdm):\n",
    "    last_block = 0\n",
    "\n",
    "    def hook(self, block_num=1, block_size=1, total_size=None):\n",
    "        self.total = total_size\n",
    "        self.update((block_num - self.last_block) * block_size)\n",
    "        self.last_block = block_num\n",
    "\n",
    "if not isfile(tar_gz_path):\n",
    "    with DLProgress(unit='B', unit_scale=True, miniters=1, desc='CIFAR-10 Dataset') as pbar:\n",
    "        urlretrieve(\n",
    "            'https://www.cs.toronto.edu/~kriz/cifar-10-python.tar.gz',\n",
    "            tar_gz_path,\n",
    "            pbar.hook)\n",
    "\n",
    "if not isdir(cifar10_dataset_folder_path):\n",
    "    with tarfile.open(tar_gz_path) as tar:\n",
    "        tar.extractall()\n",
    "        tar.close()\n",
    "\n",
    "\n",
    "tests.test_folder_path(cifar10_dataset_folder_path)"
   ]
  },
  {
   "cell_type": "markdown",
   "metadata": {},
   "source": [
    "## Explore the Data\n",
    "The dataset is broken into batches to prevent your machine from running out of memory.  The CIFAR-10 dataset consists of 5 batches, named `data_batch_1`, `data_batch_2`, etc.. Each batch contains the labels and images that are one of the following:\n",
    "* airplane\n",
    "* automobile\n",
    "* bird\n",
    "* cat\n",
    "* deer\n",
    "* dog\n",
    "* frog\n",
    "* horse\n",
    "* ship\n",
    "* truck\n",
    "\n",
    "Understanding a dataset is part of making predictions on the data.  Play around with the code cell below by changing the `batch_id` and `sample_id`. The `batch_id` is the id for a batch (1-5). The `sample_id` is the id for a image and label pair in the batch.\n",
    "\n",
    "Ask yourself \"What are all possible labels?\", \"What is the range of values for the image data?\", \"Are the labels in order or random?\".  Answers to questions like these will help you preprocess the data and end up with better predictions."
   ]
  },
  {
   "cell_type": "code",
   "execution_count": 3,
   "metadata": {},
   "outputs": [
    {
     "name": "stdout",
     "output_type": "stream",
     "text": [
      "\n",
      "Stats of batch 1:\n",
      "Samples: 10000\n",
      "Label Counts: {0: 1005, 1: 974, 2: 1032, 3: 1016, 4: 999, 5: 937, 6: 1030, 7: 1001, 8: 1025, 9: 981}\n",
      "First 20 Labels: [6, 9, 9, 4, 1, 1, 2, 7, 8, 3, 4, 7, 7, 2, 9, 9, 9, 3, 2, 6]\n",
      "\n",
      "Example of Image 5:\n",
      "Image - Min Value: 0 Max Value: 252\n",
      "Image - Shape: (32, 32, 3)\n",
      "Label - Label Id: 1 Name: automobile\n"
     ]
    },
    {
     "data": {
      "image/png": "[encoded data removed]",
      "text/plain": [
       "<matplotlib.figure.Figure at 0x7f32c65f1fd0>"
      ]
     },
     "metadata": {
      "image/png": {
       "height": 250,
       "width": 253
      }
     },
     "output_type": "display_data"
    }
   ],
   "source": [
    "%matplotlib inline\n",
    "%config InlineBackend.figure_format = 'retina'\n",
    "\n",
    "import helper\n",
    "import numpy as np\n",
    "\n",
    "# Explore the dataset\n",
    "batch_id = 1\n",
    "sample_id = 5\n",
    "helper.display_stats(cifar10_dataset_folder_path, batch_id, sample_id)"
   ]
  },
  {
   "cell_type": "markdown",
   "metadata": {},
   "source": [
    "## Implement Preprocess Functions\n",
    "### Normalize\n",
    "In the cell below, implement the `normalize` function to take in image data, `x`, and return it as a normalized Numpy array. The values should be in the range of 0 to 1, inclusive.  The return object should be the same shape as `x`."
   ]
  },
  {
   "cell_type": "code",
   "execution_count": 4,
   "metadata": {},
   "outputs": [
    {
     "name": "stdout",
     "output_type": "stream",
     "text": [
      "Tests Passed\n"
     ]
    }
   ],
   "source": [
    "def normalize(x):\n",
    "    \"\"\"\n",
    "    Normalize a list of sample image data in the range of 0 to 1\n",
    "    : x: List of image data.  The image shape is (32, 32, 3)\n",
    "    : return: Numpy array of normalize data\n",
    "    \"\"\"\n",
    "    \n",
    "    x = np.array(x,dtype = float)\n",
    "    \n",
    "    #x = (x-np.min(x))/(np.max(x)-np.min(x)) #this one decreases the accuracy\n",
    "    x = x/255.\n",
    " \n",
    "    return x\n",
    "\n",
    "\n",
    "\n",
    "\"\"\"\n",
    "DON'T MODIFY ANYTHING IN THIS CELL THAT IS BELOW THIS LINE\n",
    "\"\"\"\n",
    "tests.test_normalize(normalize)"
   ]
  },
  {
   "cell_type": "markdown",
   "metadata": {},
   "source": [
    "### One-hot encode\n",
    "Just like the previous code cell, you'll be implementing a function for preprocessing.  This time, you'll implement the `one_hot_encode` function. The input, `x`, are a list of labels.  Implement the function to return the list of labels as One-Hot encoded Numpy array.  The possible values for labels are 0 to 9. The one-hot encoding function should return the same encoding for each value between each call to `one_hot_encode`.  Make sure to save the map of encodings outside the function.\n",
    "\n",
    "Hint: Don't reinvent the wheel."
   ]
  },
  {
   "cell_type": "code",
   "execution_count": 5,
   "metadata": {},
   "outputs": [
    {
     "name": "stdout",
     "output_type": "stream",
     "text": [
      "Tests Passed\n"
     ]
    }
   ],
   "source": [
    "def one_hot_encode(x):\n",
    "    \"\"\"\n",
    "    One hot encode a list of sample labels. Return a one-hot encoded vector for each label.\n",
    "    : x: List of sample Labels\n",
    "    : return: Numpy array of one-hot encoded labels\n",
    "    \"\"\"\n",
    "    # TODO: Implement Function\n",
    "    zero_array = np.zeros(10)\n",
    "    y = []\n",
    "    for i in range(len(x)):\n",
    "        number = x[i]\n",
    "        if number==0:\n",
    "            y.append(np.array([1,0,0,0,0,0,0,0,0,0]))\n",
    "        elif number==1:\n",
    "            y.append(np.array([0,1,0,0,0,0,0,0,0,0]))\n",
    "        elif number==2:\n",
    "            y.append(np.array([0,0,1,0,0,0,0,0,0,0]))\n",
    "        elif number==3:\n",
    "            y.append(np.array([0,0,0,1,0,0,0,0,0,0]))\n",
    "        elif number==4:\n",
    "            y.append(np.array([0,0,0,0,1,0,0,0,0,0]))\n",
    "        elif number==5:\n",
    "            y.append(np.array([0,0,0,0,0,1,0,0,0,0]))\n",
    "        elif number==6:\n",
    "            y.append(np.array([0,0,0,0,0,0,1,0,0,0]))\n",
    "        elif number==7:\n",
    "            y.append(np.array([0,0,0,0,0,0,0,1,0,0]))\n",
    "        elif number==8:\n",
    "            y.append(np.array([0,0,0,0,0,0,0,0,1,0]))\n",
    "        elif number==9:\n",
    "            y.append(np.array([0,0,0,0,0,0,0,0,0,1])) \n",
    "    y = np.array(y)\n",
    "    return y\n",
    "\n",
    "\n",
    "\"\"\"\n",
    "DON'T MODIFY ANYTHING IN THIS CELL THAT IS BELOW THIS LINE\n",
    "\"\"\"\n",
    "tests.test_one_hot_encode(one_hot_encode)\n"
   ]
  },
  {
   "cell_type": "markdown",
   "metadata": {},
   "source": [
    "### Randomize Data\n",
    "As you saw from exploring the data above, the order of the samples are randomized.  It doesn't hurt to randomize it again, but you don't need to for this dataset."
   ]
  },
  {
   "cell_type": "markdown",
   "metadata": {},
   "source": [
    "## Preprocess all the data and save it\n",
    "Running the code cell below will preprocess all the CIFAR-10 data and save it to file. The code below also uses 10% of the training data for validation."
   ]
  },
  {
   "cell_type": "code",
   "execution_count": 6,
   "metadata": {},
   "outputs": [],
   "source": [
    "\"\"\"\n",
    "DON'T MODIFY ANYTHING IN THIS CELL\n",
    "\"\"\"\n",
    "# Preprocess Training, Validation, and Testing Data\n",
    "helper.preprocess_and_save_data(cifar10_dataset_folder_path, normalize, one_hot_encode)"
   ]
  },
  {
   "cell_type": "markdown",
   "metadata": {},
   "source": [
    "# Check Point\n",
    "This is your first checkpoint.  If you ever decide to come back to this notebook or have to restart the notebook, you can start from here.  The preprocessed data has been saved to disk."
   ]
  },
  {
   "cell_type": "code",
   "execution_count": 7,
   "metadata": {
    "collapsed": true
   },
   "outputs": [],
   "source": [
    "\"\"\"\n",
    "DON'T MODIFY ANYTHING IN THIS CELL\n",
    "\"\"\"\n",
    "import pickle\n",
    "import problem_unittests as tests\n",
    "import helper\n",
    "\n",
    "# Load the Preprocessed Validation data\n",
    "valid_features, valid_labels = pickle.load(open('preprocess_validation.p', mode='rb'))"
   ]
  },
  {
   "cell_type": "markdown",
   "metadata": {},
   "source": [
    "## Build the network\n",
    "For the neural network, you'll build each layer into a function.  Most of the code you've seen has been outside of functions. To test your code more thoroughly, we require that you put each layer in a function.  This allows us to give you better feedback and test for simple mistakes using our unittests before you submit your project.\n",
    "\n",
    ">**Note:** If you're finding it hard to dedicate enough time for this course each week, we've provided a small shortcut to this part of the project. In the next couple of problems, you'll have the option to use classes from the [TensorFlow Layers](https://www.tensorflow.org/api_docs/python/tf/layers) or [TensorFlow Layers (contrib)](https://www.tensorflow.org/api_guides/python/contrib.layers) packages to build each layer, except the layers you build in the \"Convolutional and Max Pooling Layer\" section.  TF Layers is similar to Keras's and TFLearn's abstraction to layers, so it's easy to pickup.\n",
    "\n",
    ">However, if you would like to get the most out of this course, try to solve all the problems _without_ using anything from the TF Layers packages. You **can** still use classes from other packages that happen to have the same name as ones you find in TF Layers! For example, instead of using the TF Layers version of the `conv2d` class, [tf.layers.conv2d](https://www.tensorflow.org/api_docs/python/tf/layers/conv2d), you would want to use the TF Neural Network version of `conv2d`, [tf.nn.conv2d](https://www.tensorflow.org/api_docs/python/tf/nn/conv2d). \n",
    "\n",
    "Let's begin!\n",
    "\n",
    "### Input\n",
    "The neural network needs to read the image data, one-hot encoded labels, and dropout keep probability. Implement the following functions\n",
    "* Implement `neural_net_image_input`\n",
    " * Return a [TF Placeholder](https://www.tensorflow.org/api_docs/python/tf/placeholder)\n",
    " * Set the shape using `image_shape` with batch size set to `None`.\n",
    " * Name the TensorFlow placeholder \"x\" using the TensorFlow `name` parameter in the [TF Placeholder](https://www.tensorflow.org/api_docs/python/tf/placeholder).\n",
    "* Implement `neural_net_label_input`\n",
    " * Return a [TF Placeholder](https://www.tensorflow.org/api_docs/python/tf/placeholder)\n",
    " * Set the shape using `n_classes` with batch size set to `None`.\n",
    " * Name the TensorFlow placeholder \"y\" using the TensorFlow `name` parameter in the [TF Placeholder](https://www.tensorflow.org/api_docs/python/tf/placeholder).\n",
    "* Implement `neural_net_keep_prob_input`\n",
    " * Return a [TF Placeholder](https://www.tensorflow.org/api_docs/python/tf/placeholder) for dropout keep probability.\n",
    " * Name the TensorFlow placeholder \"keep_prob\" using the TensorFlow `name` parameter in the [TF Placeholder](https://www.tensorflow.org/api_docs/python/tf/placeholder).\n",
    "\n",
    "These names will be used at the end of the project to load your saved model.\n",
    "\n",
    "Note: `None` for shapes in TensorFlow allow for a dynamic size."
   ]
  },
  {
   "cell_type": "code",
   "execution_count": 8,
   "metadata": {},
   "outputs": [
    {
     "name": "stdout",
     "output_type": "stream",
     "text": [
      "Image Input Tests Passed.\n",
      "Label Input Tests Passed.\n",
      "Keep Prob Tests Passed.\n"
     ]
    }
   ],
   "source": [
    "import tensorflow as tf\n",
    "\n",
    "def neural_net_image_input(image_shape):\n",
    "    \"\"\"\n",
    "    Return a Tensor for a batch of image input\n",
    "    : image_shape: Shape of the images\n",
    "    : return: Tensor for image input.\n",
    "    \"\"\"\n",
    "    # TODO: Implement Function\n",
    "    return tf.placeholder(tf.float32, shape = [None, image_shape[0], image_shape[1], image_shape[2]], name = 'x')\n",
    "\n",
    "\n",
    "def neural_net_label_input(n_classes):\n",
    "    \"\"\"\n",
    "    Return a Tensor for a batch of label input\n",
    "    : n_classes: Number of classes\n",
    "    : return: Tensor for label input.\n",
    "    \"\"\"\n",
    "    # TODO: Implement Function\n",
    "    return tf.placeholder(tf.float32, shape = [None, n_classes], name = 'y')\n",
    "\n",
    "\n",
    "def neural_net_keep_prob_input():\n",
    "    \"\"\"\n",
    "    Return a Tensor for keep probability\n",
    "    : return: Tensor for keep probability.\n",
    "    \"\"\"\n",
    "    # TODO: Implement Function\n",
    "    return tf.placeholder(tf.float32, shape = None, name = 'keep_prob')\n",
    "\n",
    "\n",
    "\"\"\"\n",
    "DON'T MODIFY ANYTHING IN THIS CELL THAT IS BELOW THIS LINE\n",
    "\"\"\"\n",
    "tf.reset_default_graph()\n",
    "tests.test_nn_image_inputs(neural_net_image_input)\n",
    "tests.test_nn_label_inputs(neural_net_label_input)\n",
    "tests.test_nn_keep_prob_inputs(neural_net_keep_prob_input)"
   ]
  },
  {
   "cell_type": "markdown",
   "metadata": {},
   "source": [
    "### Convolution and Max Pooling Layer\n",
    "Convolution layers have a lot of success with images. For this code cell, you should implement the function `conv2d_maxpool` to apply convolution then max pooling:\n",
    "* Create the weight and bias using `conv_ksize`, `conv_num_outputs` and the shape of `x_tensor`.\n",
    "* Apply a convolution to `x_tensor` using weight and `conv_strides`.\n",
    " * We recommend you use same padding, but you're welcome to use any padding.\n",
    "* Add bias\n",
    "* Add a nonlinear activation to the convolution.\n",
    "* Apply Max Pooling using `pool_ksize` and `pool_strides`.\n",
    " * We recommend you use same padding, but you're welcome to use any padding.\n",
    "\n",
    "**Note:** You **can't** use [TensorFlow Layers](https://www.tensorflow.org/api_docs/python/tf/layers) or [TensorFlow Layers (contrib)](https://www.tensorflow.org/api_guides/python/contrib.layers) for **this** layer, but you can still use TensorFlow's [Neural Network](https://www.tensorflow.org/api_docs/python/tf/nn) package. You may still use the shortcut option for all the **other** layers."
   ]
  },
  {
   "cell_type": "code",
   "execution_count": 9,
   "metadata": {},
   "outputs": [
    {
     "name": "stdout",
     "output_type": "stream",
     "text": [
      "5\n",
      "Tests Passed\n"
     ]
    }
   ],
   "source": [
    "def conv2d_maxpool(x_tensor, conv_num_outputs, conv_ksize, conv_strides, pool_ksize, pool_strides):\n",
    "    \"\"\"\n",
    "    Apply convolution then max pooling to x_tensor\n",
    "    :param x_tensor: TensorFlow Tensor\n",
    "    :param conv_num_outputs: Number of outputs for the convolutional layer\n",
    "    :param conv_ksize: kernal size 2-D Tuple for the convolutional layer\n",
    "    :param conv_strides: Stride 2-D Tuple for convolution\n",
    "    :param pool_ksize: kernal size 2-D Tuple for pool\n",
    "    :param pool_strides: Stride 2-D Tuple for pool\n",
    "    : return: A tensor that represents convolution and max pooling of x_tensor\n",
    "    \"\"\"\n",
    "    # TODO: Implement Function\n",
    "    print(x_tensor.get_shape().as_list()[3])\n",
    "    #weights = tf.Variable(tf.truncated_normal([*conv_ksize, int(x_tensor.shape[3]), conv_num_outputs], mean=0.0, stddev=0.01, dtype=tf.float32))\n",
    "    weights = tf.Variable(tf.truncated_normal((conv_ksize[0],conv_ksize[1],x_tensor.get_shape().as_list()[3],conv_num_outputs), stddev = 1/np.sqrt(x_tensor.get_shape().as_list()[3])))\n",
    "    bias = tf.Variable(tf.zeros(conv_num_outputs))\n",
    "    conv = tf.nn.conv2d(x_tensor,weights,strides = [1,conv_strides[0], conv_strides[1], 1], padding = 'SAME')\n",
    "    conv = tf.nn.bias_add(conv,bias)\n",
    "    conv = tf.nn.relu(conv)\n",
    "    conv = tf.nn.max_pool(conv, [1, pool_ksize[0], pool_ksize[1], 1], strides = [1, pool_strides[0], pool_strides[1], 1], padding = 'SAME')\n",
    "    return conv\n",
    "\n",
    "\"\"\"\n",
    "DON'T MODIFY ANYTHING IN THIS CELL THAT IS BELOW THIS LINE\n",
    "\"\"\"\n",
    "tests.test_con_pool(conv2d_maxpool)"
   ]
  },
  {
   "cell_type": "markdown",
   "metadata": {},
   "source": [
    "### Flatten Layer\n",
    "Implement the `flatten` function to change the dimension of `x_tensor` from a 4-D tensor to a 2-D tensor.  The output should be the shape (*Batch Size*, *Flattened Image Size*). Shortcut option: you can use classes from the [TensorFlow Layers](https://www.tensorflow.org/api_docs/python/tf/layers) or [TensorFlow Layers (contrib)](https://www.tensorflow.org/api_guides/python/contrib.layers) packages for this layer. For more of a challenge, only use other TensorFlow packages."
   ]
  },
  {
   "cell_type": "code",
   "execution_count": 13,
   "metadata": {},
   "outputs": [
    {
     "name": "stdout",
     "output_type": "stream",
     "text": [
      "Tests Passed\n"
     ]
    }
   ],
   "source": [
    "def flatten(x_tensor):\n",
    "    \"\"\"\n",
    "    Flatten x_tensor to (Batch Size, Flattened Image Size)\n",
    "    : x_tensor: A tensor of size (Batch Size, ...), where ... are the image dimensions.\n",
    "    : return: A tensor of size (Batch Size, Flattened Image Size).\n",
    "    \"\"\"\n",
    "    # TODO: Implement Function\n",
    "    tensor_list = x_tensor.get_shape().as_list()\n",
    "    dimension = np.prod(tensor_list[1:])                       # product of all the numbers in the tensor\n",
    "    x_tensor = tf.reshape(x_tensor, [-1, dimension])           # -1: lo que falte para completar\n",
    "    return x_tensor\n",
    "\n",
    "\n",
    "\"\"\"\n",
    "DON'T MODIFY ANYTHING IN THIS CELL THAT IS BELOW THIS LINE\n",
    "\"\"\"\n",
    "tests.test_flatten(flatten)"
   ]
  },
  {
   "cell_type": "markdown",
   "metadata": {},
   "source": [
    "### Fully-Connected Layer\n",
    "Implement the `fully_conn` function to apply a fully connected layer to `x_tensor` with the shape (*Batch Size*, *num_outputs*). Shortcut option: you can use classes from the [TensorFlow Layers](https://www.tensorflow.org/api_docs/python/tf/layers) or [TensorFlow Layers (contrib)](https://www.tensorflow.org/api_guides/python/contrib.layers) packages for this layer. For more of a challenge, only use other TensorFlow packages."
   ]
  },
  {
   "cell_type": "code",
   "execution_count": 14,
   "metadata": {},
   "outputs": [
    {
     "name": "stdout",
     "output_type": "stream",
     "text": [
      "[None, 128]\n",
      "Tests Passed\n"
     ]
    }
   ],
   "source": [
    "def fully_conn(x_tensor, num_outputs):\n",
    "    \"\"\"\n",
    "    Apply a fully connected layer to x_tensor using weight and bias\n",
    "    : x_tensor: A 2-D tensor where the first dimension is batch size.\n",
    "    : num_outputs: The number of output that the new tensor should be.\n",
    "    : return: A 2-D tensor where the second dimension is num_outputs.\n",
    "    \"\"\"\n",
    "    # TODO: Implement Function\n",
    "    \n",
    "    #x_tensor = tf.reshape(x_tensor, [-1,num_outputs])\n",
    "    \n",
    "    # Fully connected layer - 7*7*64 to 1024\n",
    "    print(x_tensor.get_shape().as_list())\n",
    "    \n",
    "    batch_size = x_tensor.get_shape().as_list()[0]\n",
    "    num_inputs = x_tensor.get_shape().as_list()[1]\n",
    "    weights = tf.Variable(tf.truncated_normal([num_inputs, num_outputs], stddev = 0.01))\n",
    "    bias = tf.Variable(tf.zeros(num_outputs))\n",
    "    fc = tf.nn.bias_add(tf.matmul(x_tensor, weights), bias)\n",
    "    fc = tf.nn.relu(fc)\n",
    "    return fc\n",
    "    \"\"\"\n",
    "    tf.contrib.layers.fully_connected(\n",
    "    x_tensor,\n",
    "    num_outputs,\n",
    "    activation_fn=tf.nn.relu,\n",
    "    normalizer_fn=None,\n",
    "    normalizer_params=None,\n",
    "    weights_initializer = None, #tf.contrib.layers.xavier_initializer(uniform=True, seed=None, dtype=tf.float32),\n",
    "    weights_regularizer=None,\n",
    "    biases_initializer=tf.zeros_initializer(),\n",
    "    biases_regularizer=None,\n",
    "    reuse=None,\n",
    "    variables_collections=None,\n",
    "    outputs_collections=None,\n",
    "    trainable=True,\n",
    "    scope=None\n",
    ")\n",
    "\"\"\"\n",
    "\n",
    "\"\"\"\n",
    "DON'T MODIFY ANYTHING IN THIS CELL THAT IS BELOW THIS LINE\n",
    "\"\"\"\n",
    "tests.test_fully_conn(fully_conn)"
   ]
  },
  {
   "cell_type": "markdown",
   "metadata": {},
   "source": [
    "### Output Layer\n",
    "Implement the `output` function to apply a fully connected layer to `x_tensor` with the shape (*Batch Size*, *num_outputs*). Shortcut option: you can use classes from the [TensorFlow Layers](https://www.tensorflow.org/api_docs/python/tf/layers) or [TensorFlow Layers (contrib)](https://www.tensorflow.org/api_guides/python/contrib.layers) packages for this layer. For more of a challenge, only use other TensorFlow packages.\n",
    "\n",
    "**Note:** Activation, softmax, or cross entropy should **not** be applied to this."
   ]
  },
  {
   "cell_type": "code",
   "execution_count": 15,
   "metadata": {},
   "outputs": [
    {
     "name": "stdout",
     "output_type": "stream",
     "text": [
      "Tests Passed\n"
     ]
    }
   ],
   "source": [
    "def output(x_tensor, num_outputs):\n",
    "    \"\"\"\n",
    "    Apply a output layer to x_tensor using weight and bias\n",
    "    : x_tensor: A 2-D tensor where the first dimension is batch size.\n",
    "    : num_outputs: The number of output that the new tensor should be.\n",
    "    : return: A 2-D tensor where the second dimension is num_outputs.\n",
    "    \"\"\"\n",
    "    # TODO: Implement Function\n",
    "    # x_tensor = tf.reshape(x_tensor, [-1,num_outputs])\n",
    "    batch_size = x_tensor.get_shape().as_list()[0]\n",
    "    num_inputs = x_tensor.get_shape().as_list()[1]\n",
    "    weights = tf.Variable(tf.truncated_normal([num_inputs, num_outputs], stddev = 0.01))\n",
    "    bias = tf.Variable(tf.zeros(num_outputs))\n",
    "    output = tf.add(tf.matmul(x_tensor, weights), bias)\n",
    "    return output\n",
    "    \n",
    "\n",
    "\"\"\"\n",
    "DON'T MODIFY ANYTHING IN THIS CELL THAT IS BELOW THIS LINE\n",
    "\"\"\"\n",
    "tests.test_output(output)"
   ]
  },
  {
   "cell_type": "markdown",
   "metadata": {},
   "source": [
    "### Create Convolutional Model\n",
    "Implement the function `conv_net` to create a convolutional neural network model. The function takes in a batch of images, `x`, and outputs logits.  Use the layers you created above to create this model:\n",
    "\n",
    "* Apply 1, 2, or 3 Convolution and Max Pool layers\n",
    "* Apply a Flatten Layer\n",
    "* Apply 1, 2, or 3 Fully Connected Layers\n",
    "* Apply an Output Layer\n",
    "* Return the output\n",
    "* Apply [TensorFlow's Dropout](https://www.tensorflow.org/api_docs/python/tf/nn/dropout) to one or more layers in the model using `keep_prob`. "
   ]
  },
  {
   "cell_type": "code",
   "execution_count": 16,
   "metadata": {},
   "outputs": [
    {
     "name": "stdout",
     "output_type": "stream",
     "text": [
      "3\n",
      "48\n",
      "96\n",
      "[None, 3072]\n",
      "[None, 512]\n",
      "3\n",
      "48\n",
      "96\n",
      "[None, 3072]\n",
      "[None, 512]\n",
      "Neural Network Built!\n"
     ]
    }
   ],
   "source": [
    "def conv_net(x, keep_prob):\n",
    "    \"\"\"\n",
    "    Create a convolutional neural network model\n",
    "    : x: Placeholder tensor that holds image data.\n",
    "    : keep_prob: Placeholder tensor that hold dropout keep probability.\n",
    "    : return: Tensor that represents logits\n",
    "    \"\"\"\n",
    "    # TODO: Apply 1, 2, or 3 Convolution and Max Pool layers\n",
    "    #    Play around with different number of outputs, kernel size and stride\n",
    "    # Function Definition from Above:\n",
    "    #    conv2d_maxpool(x_tensor, conv_num_outputs, conv_ksize, conv_strides, pool_ksize, pool_strides)\n",
    "    #    print(x.shape) = (?, 32, 32, 3)\n",
    "    conv_ksize = [2,2]\n",
    "    conv_strides = [1,1]\n",
    "    pool_ksize = [2,2]\n",
    "    pool_strides = [2,2]\n",
    "    conv = conv2d_maxpool(x,      48, conv_ksize, conv_strides, pool_ksize, pool_strides) #48\n",
    "    conv = conv2d_maxpool(conv,  96, conv_ksize, conv_strides, pool_ksize, pool_strides)  #96\n",
    "    conv = conv2d_maxpool(conv,  192, conv_ksize, conv_strides, pool_ksize, pool_strides) #192\n",
    "    #conv = conv2d_maxpool(conv,  280, conv_ksize, conv_strides, pool_ksize, pool_strides)\n",
    "\n",
    "    # TODO: Apply a Flatten Layer\n",
    "    # Function Definition from Above:\n",
    "    #   flatten(x_tensor)\n",
    "    fc = flatten(conv)\n",
    "    \n",
    "\n",
    "    # TODO: Apply 1, 2, or 3 Fully Connected Layers\n",
    "    #    Play around with different number of outputs\n",
    "    # Function Definition from Above:\n",
    "    #   fully_conn(x_tensor, num_outputs)\n",
    "    #fc = fully_conn(fc,1024)\n",
    "    #fc = tf.layers.dropout(fc, keep_prob) #change nn to layers\n",
    "    fc = fully_conn(fc,512)\n",
    "    fc = tf.layers.dropout(fc, keep_prob)\n",
    "    fc = fully_conn(fc,256)\n",
    "    fc = tf.layers.dropout(fc, keep_prob)\n",
    "    #fc = fully_conn(fc,50)\n",
    "    #fc = tf.layers.dropout(fc, keep_prob)\n",
    "    \n",
    "    \n",
    "    # TODO: Apply an Output Layer\n",
    "    #    Set this to the number of classes\n",
    "    # Function Definition from Above:\n",
    "    #   output(x_tensor, num_outputs)\n",
    "    out = output(fc, 10)\n",
    "    \n",
    "    # TODO: return output\n",
    "    return out\n",
    "\n",
    "\n",
    "\n",
    "\"\"\"\n",
    "DON'T MODIFY ANYTHING IN THIS CELL THAT IS BELOW THIS LINE\n",
    "\"\"\"\n",
    "\n",
    "##############################\n",
    "## Build the Neural Network ##\n",
    "##############################\n",
    "\n",
    "# Remove previous weights, bias, inputs, etc..\n",
    "tf.reset_default_graph()\n",
    "\n",
    "# Inputs\n",
    "x = neural_net_image_input((32, 32, 3))\n",
    "y = neural_net_label_input(10)\n",
    "keep_prob = neural_net_keep_prob_input()\n",
    "\n",
    "# Model\n",
    "logits = conv_net(x, keep_prob)\n",
    "\n",
    "# Name logits Tensor, so that is can be loaded from disk after training\n",
    "logits = tf.identity(logits, name='logits')\n",
    "\n",
    "# Loss and Optimizer\n",
    "cost = tf.reduce_mean(tf.nn.softmax_cross_entropy_with_logits(logits=logits, labels=y))\n",
    "optimizer = tf.train.AdamOptimizer().minimize(cost)\n",
    "\n",
    "# Accuracy\n",
    "correct_pred = tf.equal(tf.argmax(logits, 1), tf.argmax(y, 1))\n",
    "accuracy = tf.reduce_mean(tf.cast(correct_pred, tf.float32), name='accuracy')\n",
    "\n",
    "tests.test_conv_net(conv_net)"
   ]
  },
  {
   "cell_type": "markdown",
   "metadata": {},
   "source": [
    "## Train the Neural Network\n",
    "### Single Optimization\n",
    "Implement the function `train_neural_network` to do a single optimization.  The optimization should use `optimizer` to optimize in `session` with a `feed_dict` of the following:\n",
    "* `x` for image input\n",
    "* `y` for labels\n",
    "* `keep_prob` for keep probability for dropout\n",
    "\n",
    "This function will be called for each batch, so `tf.global_variables_initializer()` has already been called.\n",
    "\n",
    "Note: Nothing needs to be returned. This function is only optimizing the neural network."
   ]
  },
  {
   "cell_type": "code",
   "execution_count": 17,
   "metadata": {},
   "outputs": [
    {
     "name": "stdout",
     "output_type": "stream",
     "text": [
      "Tests Passed\n"
     ]
    }
   ],
   "source": [
    "def train_neural_network(session, optimizer, keep_probability, feature_batch, label_batch):\n",
    "    \"\"\"\n",
    "    Optimize the session on a batch of images and labels\n",
    "    : session: Current TensorFlow session\n",
    "    : optimizer: TensorFlow optimizer function\n",
    "    : keep_probability: keep probability\n",
    "    : feature_batch: Batch of Numpy image data\n",
    "    : label_batch: Batch of Numpy label data\n",
    "    \"\"\"\n",
    "    # TODO: Implement Function\n",
    "    #with session:\n",
    "    out = session.run(optimizer, feed_dict = {x: feature_batch, y: label_batch, keep_prob: keep_probability})\n",
    "\n",
    "\n",
    "\"\"\"\n",
    "DON'T MODIFY ANYTHING IN THIS CELL THAT IS BELOW THIS LINE\n",
    "\"\"\"\n",
    "tests.test_train_nn(train_neural_network)"
   ]
  },
  {
   "cell_type": "markdown",
   "metadata": {},
   "source": [
    "### Show Stats\n",
    "Implement the function `print_stats` to print loss and validation accuracy.  Use the global variables `valid_features` and `valid_labels` to calculate validation accuracy.  Use a keep probability of `1.0` to calculate the loss and validation accuracy."
   ]
  },
  {
   "cell_type": "code",
   "execution_count": 18,
   "metadata": {},
   "outputs": [],
   "source": [
    "def print_stats(session, feature_batch, label_batch, cost, accuracy):\n",
    "    \"\"\"\n",
    "    Print information about loss and validation accuracy\n",
    "    : session: Current TensorFlow session\n",
    "    : feature_batch: Batch of Numpy image data\n",
    "    : label_batch: Batch of Numpy label data\n",
    "    : cost: TensorFlow cost function\n",
    "    : accuracy: TensorFlow accuracy function\n",
    "    \"\"\"\n",
    "    # TODO: Implement Function\n",
    "    loss = session.run(cost, feed_dict={x: feature_batch, y: label_batch, keep_prob: 1.0})\n",
    "    valid_acc = session.run(accuracy, feed_dict={x: valid_features, y: valid_labels, keep_prob: 1.0})\n",
    "    print('Loss: {0} Validation Accuracy: {1}'.format(loss, valid_acc))"
   ]
  },
  {
   "cell_type": "markdown",
   "metadata": {},
   "source": [
    "### Hyperparameters\n",
    "Tune the following parameters:\n",
    "* Set `epochs` to the number of iterations until the network stops learning or start overfitting\n",
    "* Set `batch_size` to the highest number that your machine has memory for.  Most people set them to common sizes of memory:\n",
    " * 64\n",
    " * 128\n",
    " * 256\n",
    " * ...\n",
    "* Set `keep_probability` to the probability of keeping a node using dropout"
   ]
  },
  {
   "cell_type": "code",
   "execution_count": 24,
   "metadata": {
    "collapsed": true
   },
   "outputs": [],
   "source": [
    "# TODO: Tune Parameters\n",
    "epochs = 30\n",
    "batch_size = 256\n",
    "keep_probability = 0.6"
   ]
  },
  {
   "cell_type": "markdown",
   "metadata": {},
   "source": [
    "### Train on a Single CIFAR-10 Batch\n",
    "Instead of training the neural network on all the CIFAR-10 batches of data, let's use a single batch. This should save time while you iterate on the model to get a better accuracy.  Once the final validation accuracy is 50% or greater, run the model on all the data in the next section."
   ]
  },
  {
   "cell_type": "code",
   "execution_count": 25,
   "metadata": {},
   "outputs": [
    {
     "name": "stdout",
     "output_type": "stream",
     "text": [
      "Checking the Training on a Single Batch...\n",
      "Epoch  1, CIFAR-10 Batch 1:  Loss: 2.173097610473633 Validation Accuracy: 0.27379998564720154\n",
      "Epoch  2, CIFAR-10 Batch 1:  Loss: 1.9923086166381836 Validation Accuracy: 0.3190000057220459\n",
      "Epoch  3, CIFAR-10 Batch 1:  Loss: 1.745242953300476 Validation Accuracy: 0.40279996395111084\n",
      "Epoch  4, CIFAR-10 Batch 1:  Loss: 1.530935525894165 Validation Accuracy: 0.44439998269081116\n",
      "Epoch  5, CIFAR-10 Batch 1:  Loss: 1.3591771125793457 Validation Accuracy: 0.46399998664855957\n",
      "Epoch  6, CIFAR-10 Batch 1:  Loss: 1.1926766633987427 Validation Accuracy: 0.4941999614238739\n",
      "Epoch  7, CIFAR-10 Batch 1:  Loss: 0.9870707392692566 Validation Accuracy: 0.507599949836731\n",
      "Epoch  8, CIFAR-10 Batch 1:  Loss: 0.8322816491127014 Validation Accuracy: 0.5223999619483948\n",
      "Epoch  9, CIFAR-10 Batch 1:  Loss: 0.7374864816665649 Validation Accuracy: 0.5109999179840088\n",
      "Epoch 10, CIFAR-10 Batch 1:  Loss: 0.5837315320968628 Validation Accuracy: 0.5393999218940735\n",
      "Epoch 11, CIFAR-10 Batch 1:  Loss: 0.49121302366256714 Validation Accuracy: 0.5411999225616455\n",
      "Epoch 12, CIFAR-10 Batch 1:  Loss: 0.3989342153072357 Validation Accuracy: 0.5523999333381653\n",
      "Epoch 13, CIFAR-10 Batch 1:  Loss: 0.3354248106479645 Validation Accuracy: 0.5657999515533447\n",
      "Epoch 14, CIFAR-10 Batch 1:  Loss: 0.2808675169944763 Validation Accuracy: 0.5679998993873596\n",
      "Epoch 15, CIFAR-10 Batch 1:  Loss: 0.22139504551887512 Validation Accuracy: 0.5759998559951782\n",
      "Epoch 16, CIFAR-10 Batch 1:  Loss: 0.22751061618328094 Validation Accuracy: 0.5499999523162842\n",
      "Epoch 17, CIFAR-10 Batch 1:  Loss: 0.2077191025018692 Validation Accuracy: 0.548799991607666\n",
      "Epoch 18, CIFAR-10 Batch 1:  Loss: 0.18141646683216095 Validation Accuracy: 0.6085999011993408\n",
      "Epoch 19, CIFAR-10 Batch 1:  Loss: 0.18072296679019928 Validation Accuracy: 0.5683999061584473\n",
      "Epoch 20, CIFAR-10 Batch 1:  Loss: 0.09830823540687561 Validation Accuracy: 0.5965999364852905\n",
      "Epoch 21, CIFAR-10 Batch 1:  Loss: 0.11541921645402908 Validation Accuracy: 0.5587999224662781\n",
      "Epoch 22, CIFAR-10 Batch 1:  Loss: 0.11551937460899353 Validation Accuracy: 0.5813999176025391\n",
      "Epoch 23, CIFAR-10 Batch 1:  Loss: 0.10748875886201859 Validation Accuracy: 0.6025998592376709\n",
      "Epoch 24, CIFAR-10 Batch 1:  Loss: 0.04473721235990524 Validation Accuracy: 0.6007999181747437\n",
      "Epoch 25, CIFAR-10 Batch 1:  Loss: 0.03662142530083656 Validation Accuracy: 0.6119999885559082\n",
      "Epoch 26, CIFAR-10 Batch 1:  Loss: 0.039652418345212936 Validation Accuracy: 0.6093999147415161\n",
      "Epoch 27, CIFAR-10 Batch 1:  Loss: 0.04620721563696861 Validation Accuracy: 0.6103999018669128\n",
      "Epoch 28, CIFAR-10 Batch 1:  Loss: 0.039628587663173676 Validation Accuracy: 0.5963999629020691\n",
      "Epoch 29, CIFAR-10 Batch 1:  Loss: 0.08477125316858292 Validation Accuracy: 0.5449999570846558\n",
      "Epoch 30, CIFAR-10 Batch 1:  Loss: 0.07068121433258057 Validation Accuracy: 0.578999936580658\n"
     ]
    }
   ],
   "source": [
    "\"\"\"\n",
    "DON'T MODIFY ANYTHING IN THIS CELL\n",
    "\"\"\"\n",
    "print('Checking the Training on a Single Batch...')\n",
    "with tf.Session() as sess:\n",
    "    # Initializing the variables\n",
    "    sess.run(tf.global_variables_initializer())\n",
    "    \n",
    "    # Training cycle\n",
    "    for epoch in range(epochs):\n",
    "        batch_i = 1\n",
    "        for batch_features, batch_labels in helper.load_preprocess_training_batch(batch_i, batch_size):\n",
    "            train_neural_network(sess, optimizer, keep_probability, batch_features, batch_labels)\n",
    "        print('Epoch {:>2}, CIFAR-10 Batch {}:  '.format(epoch + 1, batch_i), end='')\n",
    "        print_stats(sess, batch_features, batch_labels, cost, accuracy)"
   ]
  },
  {
   "cell_type": "markdown",
   "metadata": {},
   "source": [
    "### Fully Train the Model\n",
    "Now that you got a good accuracy with a single CIFAR-10 batch, try it with all five batches."
   ]
  },
  {
   "cell_type": "code",
   "execution_count": 26,
   "metadata": {},
   "outputs": [
    {
     "name": "stdout",
     "output_type": "stream",
     "text": [
      "Training...\n",
      "Epoch  1, CIFAR-10 Batch 1:  Loss: 2.117744207382202 Validation Accuracy: 0.2727999687194824\n",
      "Epoch  1, CIFAR-10 Batch 2:  Loss: 1.668633222579956 Validation Accuracy: 0.35679998993873596\n",
      "Epoch  1, CIFAR-10 Batch 3:  Loss: 1.4477936029434204 Validation Accuracy: 0.3718000054359436\n",
      "Epoch  1, CIFAR-10 Batch 4:  Loss: 1.4100959300994873 Validation Accuracy: 0.4625999331474304\n",
      "Epoch  1, CIFAR-10 Batch 5:  Loss: 1.3446264266967773 Validation Accuracy: 0.500999927520752\n",
      "Epoch  2, CIFAR-10 Batch 1:  Loss: 1.4856271743774414 Validation Accuracy: 0.48559999465942383\n",
      "Epoch  2, CIFAR-10 Batch 2:  Loss: 1.2492492198944092 Validation Accuracy: 0.5239999294281006\n",
      "Epoch  2, CIFAR-10 Batch 3:  Loss: 0.9102955460548401 Validation Accuracy: 0.5245999693870544\n",
      "Epoch  2, CIFAR-10 Batch 4:  Loss: 1.0377980470657349 Validation Accuracy: 0.5521999597549438\n",
      "Epoch  2, CIFAR-10 Batch 5:  Loss: 1.0134626626968384 Validation Accuracy: 0.5809999108314514\n",
      "Epoch  3, CIFAR-10 Batch 1:  Loss: 1.061873197555542 Validation Accuracy: 0.5633999109268188\n",
      "Epoch  3, CIFAR-10 Batch 2:  Loss: 0.9357407689094543 Validation Accuracy: 0.5959998965263367\n",
      "Epoch  3, CIFAR-10 Batch 3:  Loss: 0.6531130075454712 Validation Accuracy: 0.5793999433517456\n",
      "Epoch  3, CIFAR-10 Batch 4:  Loss: 0.7942240834236145 Validation Accuracy: 0.603399932384491\n",
      "Epoch  3, CIFAR-10 Batch 5:  Loss: 0.7872657775878906 Validation Accuracy: 0.6111999154090881\n",
      "Epoch  4, CIFAR-10 Batch 1:  Loss: 0.7676019072532654 Validation Accuracy: 0.6181999444961548\n",
      "Epoch  4, CIFAR-10 Batch 2:  Loss: 0.6708272695541382 Validation Accuracy: 0.6239998936653137\n",
      "Epoch  4, CIFAR-10 Batch 3:  Loss: 0.4689483344554901 Validation Accuracy: 0.6201999187469482\n",
      "Epoch  4, CIFAR-10 Batch 4:  Loss: 0.5979403257369995 Validation Accuracy: 0.6585999131202698\n",
      "Epoch  4, CIFAR-10 Batch 5:  Loss: 0.5357460975646973 Validation Accuracy: 0.6495998501777649\n",
      "Epoch  5, CIFAR-10 Batch 1:  Loss: 0.5523896813392639 Validation Accuracy: 0.6617999076843262\n",
      "Epoch  5, CIFAR-10 Batch 2:  Loss: 0.45830774307250977 Validation Accuracy: 0.6361998319625854\n",
      "Epoch  5, CIFAR-10 Batch 3:  Loss: 0.3013456463813782 Validation Accuracy: 0.6741998791694641\n",
      "Epoch  5, CIFAR-10 Batch 4:  Loss: 0.4235551655292511 Validation Accuracy: 0.6791998744010925\n",
      "Epoch  5, CIFAR-10 Batch 5:  Loss: 0.37273165583610535 Validation Accuracy: 0.657599925994873\n",
      "Epoch  6, CIFAR-10 Batch 1:  Loss: 0.34844380617141724 Validation Accuracy: 0.689599871635437\n",
      "Epoch  6, CIFAR-10 Batch 2:  Loss: 0.27753475308418274 Validation Accuracy: 0.6801998615264893\n",
      "Epoch  6, CIFAR-10 Batch 3:  Loss: 0.2099577784538269 Validation Accuracy: 0.6947998404502869\n",
      "Epoch  6, CIFAR-10 Batch 4:  Loss: 0.2722156047821045 Validation Accuracy: 0.6981998682022095\n",
      "Epoch  6, CIFAR-10 Batch 5:  Loss: 0.24581874907016754 Validation Accuracy: 0.6593998670578003\n",
      "Epoch  7, CIFAR-10 Batch 1:  Loss: 0.23864682018756866 Validation Accuracy: 0.6803998947143555\n",
      "Epoch  7, CIFAR-10 Batch 2:  Loss: 0.15806198120117188 Validation Accuracy: 0.6991998553276062\n",
      "Epoch  7, CIFAR-10 Batch 3:  Loss: 0.13928593695163727 Validation Accuracy: 0.7077998518943787\n",
      "Epoch  7, CIFAR-10 Batch 4:  Loss: 0.1958256959915161 Validation Accuracy: 0.7123998403549194\n",
      "Epoch  7, CIFAR-10 Batch 5:  Loss: 0.13191458582878113 Validation Accuracy: 0.6759998798370361\n",
      "Epoch  8, CIFAR-10 Batch 1:  Loss: 0.17987798154354095 Validation Accuracy: 0.679999828338623\n",
      "Epoch  8, CIFAR-10 Batch 2:  Loss: 0.11468777060508728 Validation Accuracy: 0.6815998554229736\n",
      "Epoch  8, CIFAR-10 Batch 3:  Loss: 0.12531498074531555 Validation Accuracy: 0.7019999027252197\n",
      "Epoch  8, CIFAR-10 Batch 4:  Loss: 0.12727460265159607 Validation Accuracy: 0.692599892616272\n",
      "Epoch  8, CIFAR-10 Batch 5:  Loss: 0.09190112352371216 Validation Accuracy: 0.6819998025894165\n",
      "Epoch  9, CIFAR-10 Batch 1:  Loss: 0.12615621089935303 Validation Accuracy: 0.6839998364448547\n",
      "Epoch  9, CIFAR-10 Batch 2:  Loss: 0.09511934965848923 Validation Accuracy: 0.6987998485565186\n",
      "Epoch  9, CIFAR-10 Batch 3:  Loss: 0.07256288081407547 Validation Accuracy: 0.7115998268127441\n",
      "Epoch  9, CIFAR-10 Batch 4:  Loss: 0.08356136828660965 Validation Accuracy: 0.6993998289108276\n",
      "Epoch  9, CIFAR-10 Batch 5:  Loss: 0.05566629022359848 Validation Accuracy: 0.7019999027252197\n",
      "Epoch 10, CIFAR-10 Batch 1:  Loss: 0.11264541000127792 Validation Accuracy: 0.691199779510498\n",
      "Epoch 10, CIFAR-10 Batch 2:  Loss: 0.052158765494823456 Validation Accuracy: 0.7045998573303223\n",
      "Epoch 10, CIFAR-10 Batch 3:  Loss: 0.0660640150308609 Validation Accuracy: 0.6985999345779419\n",
      "Epoch 10, CIFAR-10 Batch 4:  Loss: 0.0743122473359108 Validation Accuracy: 0.6933998465538025\n",
      "Epoch 10, CIFAR-10 Batch 5:  Loss: 0.05281546339392662 Validation Accuracy: 0.6989998817443848\n",
      "Epoch 11, CIFAR-10 Batch 1:  Loss: 0.08993729203939438 Validation Accuracy: 0.6851998567581177\n",
      "Epoch 11, CIFAR-10 Batch 2:  Loss: 0.07731868326663971 Validation Accuracy: 0.7065998911857605\n",
      "Epoch 11, CIFAR-10 Batch 3:  Loss: 0.10014886409044266 Validation Accuracy: 0.6467998623847961\n",
      "Epoch 11, CIFAR-10 Batch 4:  Loss: 0.06878487765789032 Validation Accuracy: 0.6837998628616333\n",
      "Epoch 11, CIFAR-10 Batch 5:  Loss: 0.027629319578409195 Validation Accuracy: 0.7185998558998108\n",
      "Epoch 12, CIFAR-10 Batch 1:  Loss: 0.05355155095458031 Validation Accuracy: 0.7081998586654663\n",
      "Epoch 12, CIFAR-10 Batch 2:  Loss: 0.04637720808386803 Validation Accuracy: 0.6907998323440552\n",
      "Epoch 12, CIFAR-10 Batch 3:  Loss: 0.04326273128390312 Validation Accuracy: 0.687799870967865\n",
      "Epoch 12, CIFAR-10 Batch 4:  Loss: 0.06870656460523605 Validation Accuracy: 0.6943998336791992\n",
      "Epoch 12, CIFAR-10 Batch 5:  Loss: 0.02289792150259018 Validation Accuracy: 0.6843999028205872\n",
      "Epoch 13, CIFAR-10 Batch 1:  Loss: 0.039112526923418045 Validation Accuracy: 0.7105998396873474\n",
      "Epoch 13, CIFAR-10 Batch 2:  Loss: 0.018351757898926735 Validation Accuracy: 0.6885998845100403\n",
      "Epoch 13, CIFAR-10 Batch 3:  Loss: 0.015977902337908745 Validation Accuracy: 0.7145999073982239\n",
      "Epoch 13, CIFAR-10 Batch 4:  Loss: 0.028620095923542976 Validation Accuracy: 0.68479984998703\n",
      "Epoch 13, CIFAR-10 Batch 5:  Loss: 0.022940736263990402 Validation Accuracy: 0.6911998987197876\n",
      "Epoch 14, CIFAR-10 Batch 1:  Loss: 0.04762277752161026 Validation Accuracy: 0.705599844455719\n",
      "Epoch 14, CIFAR-10 Batch 2:  Loss: 0.017587672919034958 Validation Accuracy: 0.7039998769760132\n",
      "Epoch 14, CIFAR-10 Batch 3:  Loss: 0.018951784819364548 Validation Accuracy: 0.7059997916221619\n",
      "Epoch 14, CIFAR-10 Batch 4:  Loss: 0.013781006447970867 Validation Accuracy: 0.6955999135971069\n",
      "Epoch 14, CIFAR-10 Batch 5:  Loss: 0.016037065535783768 Validation Accuracy: 0.6983998417854309\n",
      "Epoch 15, CIFAR-10 Batch 1:  Loss: 0.03239075466990471 Validation Accuracy: 0.7057998180389404\n",
      "Epoch 15, CIFAR-10 Batch 2:  Loss: 0.01390338595956564 Validation Accuracy: 0.7047997713088989\n",
      "Epoch 15, CIFAR-10 Batch 3:  Loss: 0.021956181153655052 Validation Accuracy: 0.6963998079299927\n",
      "Epoch 15, CIFAR-10 Batch 4:  Loss: 0.019782260060310364 Validation Accuracy: 0.7001998424530029\n",
      "Epoch 15, CIFAR-10 Batch 5:  Loss: 0.019963230937719345 Validation Accuracy: 0.703799843788147\n",
      "Epoch 16, CIFAR-10 Batch 1:  Loss: 0.03261484578251839 Validation Accuracy: 0.7113997936248779\n",
      "Epoch 16, CIFAR-10 Batch 2:  Loss: 0.02123415842652321 Validation Accuracy: 0.687799870967865\n",
      "Epoch 16, CIFAR-10 Batch 3:  Loss: 0.019255317747592926 Validation Accuracy: 0.6903998851776123\n",
      "Epoch 16, CIFAR-10 Batch 4:  Loss: 0.01773332990705967 Validation Accuracy: 0.7053998708724976\n",
      "Epoch 16, CIFAR-10 Batch 5:  Loss: 0.016516847535967827 Validation Accuracy: 0.7041998505592346\n",
      "Epoch 17, CIFAR-10 Batch 1:  Loss: 0.016342975199222565 Validation Accuracy: 0.7071998119354248\n",
      "Epoch 17, CIFAR-10 Batch 2:  Loss: 0.034950777888298035 Validation Accuracy: 0.6639999151229858\n",
      "Epoch 17, CIFAR-10 Batch 3:  Loss: 0.021877851337194443 Validation Accuracy: 0.6763999462127686\n",
      "Epoch 17, CIFAR-10 Batch 4:  Loss: 0.013196611776947975 Validation Accuracy: 0.6969998478889465\n",
      "Epoch 17, CIFAR-10 Batch 5:  Loss: 0.00754968449473381 Validation Accuracy: 0.703799843788147\n",
      "Epoch 18, CIFAR-10 Batch 1:  Loss: 0.011057032272219658 Validation Accuracy: 0.7109998464584351\n",
      "Epoch 18, CIFAR-10 Batch 2:  Loss: 0.022907814010977745 Validation Accuracy: 0.6587998867034912\n"
     ]
    },
    {
     "name": "stdout",
     "output_type": "stream",
     "text": [
      "Epoch 18, CIFAR-10 Batch 3:  Loss: 0.01179367583245039 Validation Accuracy: 0.6921998858451843\n",
      "Epoch 18, CIFAR-10 Batch 4:  Loss: 0.006992011331021786 Validation Accuracy: 0.697399914264679\n",
      "Epoch 18, CIFAR-10 Batch 5:  Loss: 0.014151431620121002 Validation Accuracy: 0.682999849319458\n",
      "Epoch 19, CIFAR-10 Batch 1:  Loss: 0.011991101317107677 Validation Accuracy: 0.7211998701095581\n",
      "Epoch 19, CIFAR-10 Batch 2:  Loss: 0.007520351558923721 Validation Accuracy: 0.6949999332427979\n",
      "Epoch 19, CIFAR-10 Batch 3:  Loss: 0.00900143664330244 Validation Accuracy: 0.7099998593330383\n",
      "Epoch 19, CIFAR-10 Batch 4:  Loss: 0.0066575962118804455 Validation Accuracy: 0.6981998682022095\n",
      "Epoch 19, CIFAR-10 Batch 5:  Loss: 0.0024016122333705425 Validation Accuracy: 0.7179998159408569\n",
      "Epoch 20, CIFAR-10 Batch 1:  Loss: 0.010561252012848854 Validation Accuracy: 0.7059999108314514\n",
      "Epoch 20, CIFAR-10 Batch 2:  Loss: 0.004079626873135567 Validation Accuracy: 0.7109998464584351\n",
      "Epoch 20, CIFAR-10 Batch 3:  Loss: 0.006025932263582945 Validation Accuracy: 0.7107998728752136\n",
      "Epoch 20, CIFAR-10 Batch 4:  Loss: 0.01019950583577156 Validation Accuracy: 0.6981998682022095\n",
      "Epoch 20, CIFAR-10 Batch 5:  Loss: 0.0033383783884346485 Validation Accuracy: 0.7201998233795166\n",
      "Epoch 21, CIFAR-10 Batch 1:  Loss: 0.005109674762934446 Validation Accuracy: 0.7011998295783997\n",
      "Epoch 21, CIFAR-10 Batch 2:  Loss: 0.0027635556180030107 Validation Accuracy: 0.7201998233795166\n",
      "Epoch 21, CIFAR-10 Batch 3:  Loss: 0.001981292152777314 Validation Accuracy: 0.7061998248100281\n",
      "Epoch 21, CIFAR-10 Batch 4:  Loss: 0.00500223645940423 Validation Accuracy: 0.7173998355865479\n",
      "Epoch 21, CIFAR-10 Batch 5:  Loss: 0.0025034239515662193 Validation Accuracy: 0.7261998653411865\n",
      "Epoch 22, CIFAR-10 Batch 1:  Loss: 0.0075700609013438225 Validation Accuracy: 0.6981998682022095\n",
      "Epoch 22, CIFAR-10 Batch 2:  Loss: 0.004086574073880911 Validation Accuracy: 0.7121998071670532\n",
      "Epoch 22, CIFAR-10 Batch 3:  Loss: 0.00971099454909563 Validation Accuracy: 0.6869999170303345\n",
      "Epoch 22, CIFAR-10 Batch 4:  Loss: 0.007053070701658726 Validation Accuracy: 0.7113998532295227\n",
      "Epoch 22, CIFAR-10 Batch 5:  Loss: 0.004075472708791494 Validation Accuracy: 0.7099998593330383\n",
      "Epoch 23, CIFAR-10 Batch 1:  Loss: 0.005961830262094736 Validation Accuracy: 0.7039998769760132\n",
      "Epoch 23, CIFAR-10 Batch 2:  Loss: 0.003406727686524391 Validation Accuracy: 0.705599844455719\n",
      "Epoch 23, CIFAR-10 Batch 3:  Loss: 0.0054071079939603806 Validation Accuracy: 0.7017998695373535\n",
      "Epoch 23, CIFAR-10 Batch 4:  Loss: 0.009233805350959301 Validation Accuracy: 0.676399827003479\n",
      "Epoch 23, CIFAR-10 Batch 5:  Loss: 0.004791984800249338 Validation Accuracy: 0.7135998606681824\n",
      "Epoch 24, CIFAR-10 Batch 1:  Loss: 0.003949209116399288 Validation Accuracy: 0.7181998491287231\n",
      "Epoch 24, CIFAR-10 Batch 2:  Loss: 0.002065263921394944 Validation Accuracy: 0.6983999013900757\n",
      "Epoch 24, CIFAR-10 Batch 3:  Loss: 0.0011572721414268017 Validation Accuracy: 0.7097998261451721\n",
      "Epoch 24, CIFAR-10 Batch 4:  Loss: 0.0025627356953918934 Validation Accuracy: 0.6999998688697815\n",
      "Epoch 24, CIFAR-10 Batch 5:  Loss: 0.004401077516376972 Validation Accuracy: 0.7151998281478882\n",
      "Epoch 25, CIFAR-10 Batch 1:  Loss: 0.0028971300926059484 Validation Accuracy: 0.7045997977256775\n",
      "Epoch 25, CIFAR-10 Batch 2:  Loss: 0.005779431201517582 Validation Accuracy: 0.6929998993873596\n",
      "Epoch 25, CIFAR-10 Batch 3:  Loss: 0.004141018260270357 Validation Accuracy: 0.7015998363494873\n",
      "Epoch 25, CIFAR-10 Batch 4:  Loss: 0.006192922126501799 Validation Accuracy: 0.6867998838424683\n",
      "Epoch 25, CIFAR-10 Batch 5:  Loss: 0.004521595314145088 Validation Accuracy: 0.7163998484611511\n",
      "Epoch 26, CIFAR-10 Batch 1:  Loss: 0.0016298099653795362 Validation Accuracy: 0.7119998931884766\n",
      "Epoch 26, CIFAR-10 Batch 2:  Loss: 0.0024641447234898806 Validation Accuracy: 0.7099999189376831\n",
      "Epoch 26, CIFAR-10 Batch 3:  Loss: 0.001438054721802473 Validation Accuracy: 0.7059999108314514\n",
      "Epoch 26, CIFAR-10 Batch 4:  Loss: 0.0022897040471434593 Validation Accuracy: 0.7155998349189758\n",
      "Epoch 26, CIFAR-10 Batch 5:  Loss: 0.0005290006520226598 Validation Accuracy: 0.7315998673439026\n",
      "Epoch 27, CIFAR-10 Batch 1:  Loss: 0.0006215515313670039 Validation Accuracy: 0.7247998714447021\n",
      "Epoch 27, CIFAR-10 Batch 2:  Loss: 0.0016069550765678287 Validation Accuracy: 0.7189998030662537\n",
      "Epoch 27, CIFAR-10 Batch 3:  Loss: 0.0009437575354240835 Validation Accuracy: 0.7005998492240906\n",
      "Epoch 27, CIFAR-10 Batch 4:  Loss: 0.002391339046880603 Validation Accuracy: 0.7115998864173889\n",
      "Epoch 27, CIFAR-10 Batch 5:  Loss: 0.000801033980678767 Validation Accuracy: 0.7175998687744141\n",
      "Epoch 28, CIFAR-10 Batch 1:  Loss: 0.0018804350402206182 Validation Accuracy: 0.7105998396873474\n",
      "Epoch 28, CIFAR-10 Batch 2:  Loss: 0.0017599428538233042 Validation Accuracy: 0.7235998511314392\n",
      "Epoch 28, CIFAR-10 Batch 3:  Loss: 0.0008462887490168214 Validation Accuracy: 0.7071999311447144\n",
      "Epoch 28, CIFAR-10 Batch 4:  Loss: 0.0004971859743818641 Validation Accuracy: 0.7109998464584351\n",
      "Epoch 28, CIFAR-10 Batch 5:  Loss: 0.0038768139202147722 Validation Accuracy: 0.7107998728752136\n",
      "Epoch 29, CIFAR-10 Batch 1:  Loss: 0.004404652863740921 Validation Accuracy: 0.6955999135971069\n",
      "Epoch 29, CIFAR-10 Batch 2:  Loss: 0.0026225228793919086 Validation Accuracy: 0.7105998396873474\n",
      "Epoch 29, CIFAR-10 Batch 3:  Loss: 0.005233315285295248 Validation Accuracy: 0.7029998898506165\n",
      "Epoch 29, CIFAR-10 Batch 4:  Loss: 0.003007329534739256 Validation Accuracy: 0.7039998173713684\n",
      "Epoch 29, CIFAR-10 Batch 5:  Loss: 0.0014338847249746323 Validation Accuracy: 0.7143999338150024\n",
      "Epoch 30, CIFAR-10 Batch 1:  Loss: 0.002131878398358822 Validation Accuracy: 0.6989998817443848\n",
      "Epoch 30, CIFAR-10 Batch 2:  Loss: 0.002234693616628647 Validation Accuracy: 0.6935998797416687\n",
      "Epoch 30, CIFAR-10 Batch 3:  Loss: 0.000988900545053184 Validation Accuracy: 0.7189999222755432\n",
      "Epoch 30, CIFAR-10 Batch 4:  Loss: 0.00037238115328364074 Validation Accuracy: 0.7133998870849609\n",
      "Epoch 30, CIFAR-10 Batch 5:  Loss: 0.001014954294078052 Validation Accuracy: 0.712199866771698\n"
     ]
    }
   ],
   "source": [
    "\"\"\"\n",
    "DON'T MODIFY ANYTHING IN THIS CELL\n",
    "\"\"\"\n",
    "save_model_path = './image_classification'\n",
    "\n",
    "print('Training...')\n",
    "with tf.Session() as sess:\n",
    "    # Initializing the variables\n",
    "    sess.run(tf.global_variables_initializer())\n",
    "    \n",
    "    # Training cycle\n",
    "    for epoch in range(epochs):\n",
    "        # Loop over all batches\n",
    "        n_batches = 5\n",
    "        for batch_i in range(1, n_batches + 1):\n",
    "            for batch_features, batch_labels in helper.load_preprocess_training_batch(batch_i, batch_size):\n",
    "                train_neural_network(sess, optimizer, keep_probability, batch_features, batch_labels)\n",
    "            print('Epoch {:>2}, CIFAR-10 Batch {}:  '.format(epoch + 1, batch_i), end='')\n",
    "            print_stats(sess, batch_features, batch_labels, cost, accuracy)\n",
    "            \n",
    "    # Save Model\n",
    "    saver = tf.train.Saver()\n",
    "    save_path = saver.save(sess, save_model_path)"
   ]
  },
  {
   "cell_type": "markdown",
   "metadata": {},
   "source": [
    "# Checkpoint\n",
    "The model has been saved to disk.\n",
    "## Test Model\n",
    "Test your model against the test dataset.  This will be your final accuracy. You should have an accuracy greater than 50%. If you don't, keep tweaking the model architecture and parameters."
   ]
  },
  {
   "cell_type": "code",
   "execution_count": 27,
   "metadata": {},
   "outputs": [
    {
     "name": "stdout",
     "output_type": "stream",
     "text": [
      "INFO:tensorflow:Restoring parameters from ./image_classification\n",
      "Testing Accuracy: 0.69921875\n",
      "\n"
     ]
    },
    {
     "data": {
      "image/png": "[encoded data removed]",
      "text/plain": [
       "<matplotlib.figure.Figure at 0x7f331b41c3c8>"
      ]
     },
     "metadata": {
      "image/png": {
       "height": 319,
       "width": 355
      }
     },
     "output_type": "display_data"
    }
   ],
   "source": [
    "\"\"\"\n",
    "DON'T MODIFY ANYTHING IN THIS CELL\n",
    "\"\"\"\n",
    "%matplotlib inline\n",
    "%config InlineBackend.figure_format = 'retina'\n",
    "\n",
    "import tensorflow as tf\n",
    "import pickle\n",
    "import helper\n",
    "import random\n",
    "\n",
    "# Set batch size if not already set\n",
    "try:\n",
    "    if batch_size:\n",
    "        pass\n",
    "except NameError:\n",
    "    batch_size = 64\n",
    "\n",
    "save_model_path = './image_classification'\n",
    "n_samples = 4\n",
    "top_n_predictions = 3\n",
    "\n",
    "def test_model():\n",
    "    \"\"\"\n",
    "    Test the saved model against the test dataset\n",
    "    \"\"\"\n",
    "\n",
    "    test_features, test_labels = pickle.load(open('preprocess_test.p', mode='rb'))\n",
    "    loaded_graph = tf.Graph()\n",
    "\n",
    "    with tf.Session(graph=loaded_graph) as sess:\n",
    "        # Load model\n",
    "        loader = tf.train.import_meta_graph(save_model_path + '.meta')\n",
    "        loader.restore(sess, save_model_path)\n",
    "\n",
    "        # Get Tensors from loaded model\n",
    "        loaded_x = loaded_graph.get_tensor_by_name('x:0')\n",
    "        loaded_y = loaded_graph.get_tensor_by_name('y:0')\n",
    "        loaded_keep_prob = loaded_graph.get_tensor_by_name('keep_prob:0')\n",
    "        loaded_logits = loaded_graph.get_tensor_by_name('logits:0')\n",
    "        loaded_acc = loaded_graph.get_tensor_by_name('accuracy:0')\n",
    "        \n",
    "        # Get accuracy in batches for memory limitations\n",
    "        test_batch_acc_total = 0\n",
    "        test_batch_count = 0\n",
    "        \n",
    "        for test_feature_batch, test_label_batch in helper.batch_features_labels(test_features, test_labels, batch_size):\n",
    "            test_batch_acc_total += sess.run(\n",
    "                loaded_acc,\n",
    "                feed_dict={loaded_x: test_feature_batch, loaded_y: test_label_batch, loaded_keep_prob: 1.0})\n",
    "            test_batch_count += 1\n",
    "\n",
    "        print('Testing Accuracy: {}\\n'.format(test_batch_acc_total/test_batch_count))\n",
    "\n",
    "        # Print Random Samples\n",
    "        random_test_features, random_test_labels = tuple(zip(*random.sample(list(zip(test_features, test_labels)), n_samples)))\n",
    "        random_test_predictions = sess.run(\n",
    "            tf.nn.top_k(tf.nn.softmax(loaded_logits), top_n_predictions),\n",
    "            feed_dict={loaded_x: random_test_features, loaded_y: random_test_labels, loaded_keep_prob: 1.0})\n",
    "        helper.display_image_predictions(random_test_features, random_test_labels, random_test_predictions)\n",
    "\n",
    "\n",
    "test_model()"
   ]
  },
  {
   "cell_type": "markdown",
   "metadata": {},
   "source": [
    "## Why 50-80% Accuracy?\n",
    "You might be wondering why you can't get an accuracy any higher. First things first, 50% isn't bad for a simple CNN.  Pure guessing would get you 10% accuracy. However, you might notice people are getting scores [well above 80%](http://rodrigob.github.io/are_we_there_yet/build/classification_datasets_results.html#43494641522d3130).  That's because we haven't taught you all there is to know about neural networks. We still need to cover a few more techniques.\n",
    "## Submitting This Project\n",
    "When submitting this project, make sure to run all the cells before saving the notebook.  Save the notebook file as \"dlnd_image_classification.ipynb\" and save it as a HTML file under \"File\" -> \"Download as\".  Include the \"helper.py\" and \"problem_unittests.py\" files in your submission."
   ]
  }
 ],
 "metadata": {
  "kernelspec": {
   "display_name": "Python 3",
   "language": "python",
   "name": "python3"
  },
  "language_info": {
   "codemirror_mode": {
    "name": "ipython",
    "version": 3
   },
   "file_extension": ".py",
   "mimetype": "text/x-python",
   "name": "python",
   "nbconvert_exporter": "python",
   "pygments_lexer": "ipython3",
   "version": "3.5.3"
  }
 },
 "nbformat": 4,
 "nbformat_minor": 1
}
